{
 "cells": [
  {
   "cell_type": "code",
   "execution_count": null,
   "metadata": {},
   "outputs": [],
   "source": [
    "import os\n",
    "import re\n",
    "import csv\n",
    "import math\n",
    "import time\n",
    "import pandas as pd\n",
    "from random import randint\n",
    "from selenium import webdriver\n",
    "from selenium.common.exceptions import NoSuchElementException\n",
    "from selenium.webdriver.firefox.options import Options\n",
    "\n",
    "def write_to_file(outfile, var, header):\n",
    "    if os.path.isfile(outfile):\n",
    "        with open(outfile, 'a', newline='',  encoding='\"utf-8-sig\"') as result:\n",
    "            writer = csv.writer(result)\n",
    "            writer.writerow(var)\n",
    "    else:\n",
    "        with open(outfile, 'w', newline='', encoding='\"utf-8-sig\"') as result:\n",
    "            writer = csv.writer(result)\n",
    "            writer.writerow(header)\n",
    "            writer.writerow(var)"
   ]
  },
  {
   "cell_type": "markdown",
   "metadata": {},
   "source": [
    "# Oliver's Market"
   ]
  },
  {
   "cell_type": "code",
   "execution_count": null,
   "metadata": {},
   "outputs": [],
   "source": [
    "def olivers_market_scraper(outfile):\n",
    "    options = Options()\n",
    "    options.headless = True\n",
    "\n",
    "    driver = webdriver.Firefox(options=options)\n",
    "    driver.get('https://www.oliversmarket.com/recipe/')\n",
    "\n",
    "    next_page = driver.find_element_by_xpath(\"//div[@class='paginate clearfix']//descendant::a\").get_attribute('href')[:-1]\n",
    "    last_page = int(driver.find_element_by_xpath(\"//span[@class='page-numbers dots']//following-sibling::a\").text)\n",
    "\n",
    "    all_recipe_links = {}\n",
    "    page = 1\n",
    "    while page <= last_page:\n",
    "        page += 1\n",
    "\n",
    "        recipe_tags = driver.find_elements_by_xpath(\"//div[@class='card-info']//descendant::a\")\n",
    "        recipe_links = {recipe_tag.text: recipe_tag.get_attribute('href') for recipe_tag in recipe_tags}\n",
    "        all_recipe_links.update(recipe_links)\n",
    "\n",
    "        time.sleep(randint(5,8))\n",
    "\n",
    "        driver.get(f'{next_page}{page}')\n",
    "    \n",
    "    recipe_names = list(all_recipe_links.keys())\n",
    "    recipe_links = list(all_recipe_links.values())\n",
    "\n",
    "    index = 100000\n",
    "    for counter in range(0, len(all_recipe_links)):\n",
    "        driver.get(recipe_links[counter])\n",
    "        try:\n",
    "            recipe_description = driver.find_element_by_xpath(\"//div[@class='single-intro']//descendant::p\").text\n",
    "        except NoSuchElementException:\n",
    "            recipe_description = None\n",
    "        try:\n",
    "            recipe_image = driver.find_element_by_xpath(\"//div[@class='post-featured-image']//descendant::img\").get_attribute('src')\n",
    "        except NoSuchElementException:\n",
    "            recipe_image = None\n",
    "        try:\n",
    "            recipe_overview = driver.find_element_by_xpath(\"//ul[@class='recipe-details']\").text.splitlines()\n",
    "        except NoSuchElementException:\n",
    "            recipe_overview = None\n",
    "        try:\n",
    "            recipe_ingredients = driver.find_element_by_xpath(\"//ul[@class='ingredients clearfix']\").text.splitlines()\n",
    "        except NoSuchElementException:\n",
    "            recipe_ingredients = None\n",
    "        try:\n",
    "            recipe_instructions = driver.find_element_by_xpath(\"//ol[@class='instructions clearfix']\").text.splitlines()\n",
    "        except NoSuchElementException:\n",
    "            recipe_instructions = None\n",
    "\n",
    "        header = ['olivers_market_id', 'recipe_name', 'recipe_link', 'recipe_description', 'recipe_image', 'recipe_overview', 'recipe_ingredients', 'recipe_instructions']\n",
    "        var = [index, recipe_names[counter], recipe_links[counter], recipe_description, recipe_image, recipe_overview, recipe_ingredients, recipe_instructions]\n",
    "        write_to_file(outfile, var=var, header=header)\n",
    "\n",
    "        index += 1\n",
    "        \n",
    "        time.sleep(randint(5,8))\n",
    "\n",
    "    driver.close()\n",
    "    \n",
    "outfile = '' # Insert desired outfile\n",
    "olivers_market_scraper(outfile)"
   ]
  },
  {
   "cell_type": "markdown",
   "metadata": {
    "heading_collapsed": true
   },
   "source": [
    "# Publix"
   ]
  },
  {
   "cell_type": "code",
   "execution_count": null,
   "metadata": {
    "hidden": true
   },
   "outputs": [],
   "source": [
    "import re\n",
    "category_regex = re.compile(r'(.*) \\(\\d*\\)')\n",
    "\n",
    "driver = webdriver.Firefox()\n",
    "driver.get('https://ww4.publix.com/recipes-planning/browse-all-recipes?results=75')\n",
    "category_pages = driver.find_elements_by_xpath(\"//ul[@class='category-list']/descendant::li/descendant::a\")\n",
    "category_n_link = {category_regex.search(category_page.text).group(1):category_page.get_attribute('href') for category_page in category_pages}\n",
    "\n",
    "category = list(category_n_link.keys())\n",
    "category_link = list(category_n_link.values())\n",
    "\n",
    "# for counter in range(0, len(category_n_link)):\n",
    "#     driver.get(category_link[counter])"
   ]
  },
  {
   "cell_type": "code",
   "execution_count": null,
   "metadata": {
    "hidden": true
   },
   "outputs": [],
   "source": [
    "driver.get(category_link[0])\n",
    "\n",
    "recipe_pages = driver.find_elements_by_xpath(\"//div[@class='pod pod-links recipe-card card-fourth']//descendant::div/descendant::h4/descendant::a\")\n",
    "recipe_n_link = {recipe_page.text:recipe_page.get_attribute('href') for recipe_page in recipe_pages}\n",
    "\n",
    "recipe_images = driver.find_elements_by_xpath(\"//div[@class='pod pod-links recipe-card card-fourth']//descendant::a//descendant::img\")\n",
    "recipe_images = [recipe_image.get_attribute('src') if 'no-image' not in recipe_image.get_attribute('src') else None for recipe_image in recipe_images]\n",
    "\n",
    "recipe_names = list(recipe_n_link.keys())\n",
    "recipe_links = list(recipe_n_link.values())\n",
    "\n",
    "# for counter in range(0, len(recipe_n_link)):\n",
    "#     driver.get(recipe_links[counter])"
   ]
  },
  {
   "cell_type": "code",
   "execution_count": null,
   "metadata": {
    "hidden": true
   },
   "outputs": [],
   "source": [
    "driver = webdriver.Firefox()\n",
    "driver.get(recipe_links[0])\n",
    "\n",
    "try:\n",
    "    recipe_total_time = driver.find_element_by_xpath(\"//dd[@id='content_1_ddTotalTime']\").text\n",
    "except NoSuchElementException:\n",
    "    recipe_total_time = None\n",
    "try:\n",
    "    recipe_serving = driver.find_element_by_xpath(\"//dd[@id='content_1_ddServings']\").text\n",
    "except NoSuchElementException:\n",
    "    recipe_serving = None\n",
    "try:\n",
    "    recipe_active_time = driver.find_element_by_xpath(\"//dd[@id='content_1_ddActiveTime']\").text\n",
    "except NoSuchElementException:\n",
    "    recipe_active_time = None\n",
    "try:\n",
    "    recipe = driver.find_elements_by_xpath(\"//div[@class=recipe-tab-pane ui-tabs-panel ui-widget-content ui-corner-bottom']\")\n",
    "except NoSuchElementException:\n",
    "    recipe = None\n",
    "# try:\n",
    "#     recipe_nutrition = driver.find_element_by_xpath(\"//div[@id='nutrition']\").text\n",
    "# except NoSuchElementException:\n",
    "#     recipe_nutrition = None"
   ]
  },
  {
   "cell_type": "markdown",
   "metadata": {
    "heading_collapsed": true
   },
   "source": [
    "# Tesco"
   ]
  },
  {
   "cell_type": "code",
   "execution_count": null,
   "metadata": {
    "hidden": true
   },
   "outputs": [],
   "source": [
    "# def olivers_market_scraper(outfile):\n",
    "\n",
    "url = 'https://realfood.tesco.com/search.html?&perpage=90'\n",
    "t_n_t_outfile = 'testco_tips_n_trends.csv'\n",
    "tesco_results = 'tesco_recipes.csv'\n",
    "\n",
    "\n",
    "options = Options()\n",
    "options.headless = True\n",
    "driver = webdriver.Firefox(options=options)\n",
    "driver.get(url)\n",
    "\n",
    "last_page = driver.find_element_by_xpath(\"//a[@class='ddl-search-pagination__link ddl-search-pagination__btn ddl-search-pagination__btn_last']\").get_attribute('href')\n",
    "driver.get(last_page)\n",
    "last_page_num = int(driver.find_element_by_xpath(\"//a[@class='ddl-search-pagination__link ddl-search-pagination__link_active']\").text)\n",
    "driver.get(url)\n",
    "\n",
    "page_num = 1\n",
    "recipe_links = []\n",
    "recipe_types = []\n",
    "recipe_names = []\n",
    "while page_num <= last_page_num:\n",
    "    \n",
    "    page_recipe_links_eles = driver.find_elements_by_xpath(\"//a[@class='ddl-search-results__item-link']\")\n",
    "    page_recipe_links = [recipe_link.get_attribute('href') for recipe_link in page_recipe_links_eles]\n",
    "    recipe_links = recipe_links + page_recipe_links\n",
    "    \n",
    "    page_recipe_types_eles = driver.find_elements_by_xpath(\"//div[@class='ddl-search-results__item-category']\")\n",
    "    page_recipe_types = [recipe_type.text for recipe_type in page_recipe_types_eles]\n",
    "    recipe_types = recipe_types + page_recipe_types\n",
    "\n",
    "    page_recipe_names_eles = driver.find_elements_by_xpath(\"//h2[@class='ddl-search-results__item-heading']\")\n",
    "    page_recipe_names = [recipe_name.text for recipe_name in page_recipe_names_eles]\n",
    "    recipe_names = recipe_names + page_recipe_names\n",
    "    \n",
    "    page_num += 1\n",
    "    \n",
    "    next_page = f'https://realfood.tesco.com/search.html?&page={page_num}&perpage=90'\n",
    "    driver.get(next_page)\n",
    "    \n",
    "    \n",
    "\n",
    "index = 100000\n",
    "for counter in range(0, len(recipe_links)):\n",
    "    if recipe_types[counter] != 'Recipe':\n",
    "        var = [recipe_names[counter], recipe_links[counter], recipe_types[counter]]\n",
    "        header = ['recipe_name', 'recipe_link', 'recipe_type']\n",
    "        \n",
    "        write_to_file(t_n_t_outfile, var, header)\n",
    "    else:\n",
    "        driver.get(recipe_links[counter])\n",
    "\n",
    "        try:\n",
    "            recipe_description = driver.find_element_by_xpath(\"//p[@class='recipe-detail__intro']\").text.replace(' See method', '')\n",
    "        except NoSuchElementException:\n",
    "            recipe_description = None\n",
    "        try:\n",
    "            recipe_ingredients = driver.find_element_by_xpath(\"//ul[@class='recipe-detail__list']\").text.splitlines()\n",
    "        except NoSuchElementException:\n",
    "            recipe_ingredients = None\n",
    "        try:\n",
    "            recipe_directions = driver.find_element_by_xpath(\"//div[@class='recipe-detail__cms']\").text.splitlines()\n",
    "        except NoSuchElementException:\n",
    "            recipe_directions = None\n",
    "        recipe_image = driver.find_element_by_xpath(\"//img[@class='recipe-detail__img']\").get_attribute('src')\n",
    "\n",
    "        try:\n",
    "            recipe_category_link = driver.find_element_by_xpath(\"//div[@class='recipe-detail__cms']//descendant::p/descendant::a\").get_attribute('href')\n",
    "        except NoSuchElementException:\n",
    "            recipe_category_link = None\n",
    "        try:\n",
    "            recipe_category_name = driver.find_element_by_xpath(\"//div[@class='recipe-detail__cms']//descendant::p/descendant::a\").text.replace(' recipes','')\n",
    "        except NoSuchElementException:\n",
    "            recipe_category_name = None\n",
    "        \n",
    "        try:\n",
    "            recipe_serving = driver.find_element_by_xpath(\"//li[@class='recipe-detail__meta-item recipe-detail__meta-item_servings']\").text\n",
    "        except NoSuchElementException:\n",
    "            recipe_serving = None\n",
    "        try:\n",
    "            recipe_duration = driver.find_element_by_xpath(\"//li[@class='recipe-detail__meta-item recipe-detail__meta-item_time']\").text\n",
    "        except NoSuchElementException:\n",
    "            recipe_duration = None\n",
    "        try:\n",
    "            recipe_cal_per_serv = driver.find_element_by_xpath(\"//li[@class='recipe-detail__meta-item recipe-detail__meta-item_calories']\").text\n",
    "        except NoSuchElementException:\n",
    "            recipe_cal_per_serv = None\n",
    "\n",
    "        try:\n",
    "            energy = driver.find_element_by_xpath(\"//span[@class='recipe-detail__nutrition-value recipe-detail__nutrition-value_small']\").text.splitlines()[1]\n",
    "        except NoSuchElementException:\n",
    "            energy = None\n",
    "        try:\n",
    "            nutrition_facts_eles = driver.find_elements_by_xpath(\"//span[@class='recipe-detail__nutrition-value']\")\n",
    "            nutrition_facts = [nutrition_fact.text for nutrition_fact in nutrition_facts_eles]\n",
    "        except NoSuchElementException:\n",
    "            nutrition_facts = None\n",
    "            \n",
    "        nutrition_facts = [energy] + nutrition_facts\n",
    "        \n",
    "        try:\n",
    "            nutrition_facts_perc_eles = driver.find_elements_by_xpath(\"//span[@class='recipe-detail__nutrition-percentage-item']\")\n",
    "            nutrition_facts_perc = [nutrition_fact_perc.text for nutrition_fact_perc in nutrition_facts_perc_eles]\n",
    "        except NoSuchElementException:\n",
    "            nutrition_facts = None\n",
    "        \n",
    "        try:\n",
    "            addl_nutrition_facts_eles = driver.find_elements_by_xpath(\"//strong[@class='recipe-detail__nutrition-text_bold']\")\n",
    "            addl_nutrition_facts = [addl_nutrition_fact.text for addl_nutrition_fact in addl_nutrition_facts_eles]\n",
    "        except NoSuchElementException:\n",
    "            addl_nutrition_facts = None\n",
    "\n",
    "        nutrition_facts_names = ['energy', 'fat', 'saturates', 'sugar', 'salt']\n",
    "        addl_nutrition_facts_names = ['carbohydrate', 'protein', 'fibre']\n",
    "\n",
    "        nutrition_facts_dict = dict(zip(nutrition_facts_names, nutrition_facts))\n",
    "        nutrition_facts_perc_dict = dict(zip(nutrition_facts_names, nutrition_facts_perc))\n",
    "        addl_nutrition_facts_dict = dict(zip(addl_nutrition_facts_names, addl_nutrition_facts))\n",
    "\n",
    "\n",
    "        var = [index, recipe_names[counter], recipe_links[counter], recipe_types[counter], recipe_description, \n",
    "               recipe_ingredients, recipe_directions, recipe_image, recipe_category_name, recipe_serving, recipe_duration,\n",
    "               recipe_cal_per_serv, nutrition_facts_dict, nutrition_facts_perc_dict, addl_nutrition_facts_dict]\n",
    "\n",
    "        header = ['tesco_id', 'recipe_name', 'recipe_url', 'recipe_type', 'recipe_description', 'recipe_ingredients',\n",
    "                  'recipe_directions', 'recipe_image', 'recipe_category', 'recipe_serving_count', 'recipe_duration', \n",
    "                  'recipe_cal_per_serv', 'recipe_nutrition_facts','recipe_nutrition_facts_percent', 'recipe_addl_nutrition_facts']\n",
    "\n",
    "        write_to_file(tesco_results, var, header)\n",
    "        index += 1\n",
    "        time.sleep(randint(5,8))\n",
    "        \n",
    "driver.close()"
   ]
  },
  {
   "cell_type": "code",
   "execution_count": null,
   "metadata": {
    "hidden": true
   },
   "outputs": [],
   "source": [
    "addl_nutrition_facts"
   ]
  },
  {
   "cell_type": "markdown",
   "metadata": {
    "heading_collapsed": true
   },
   "source": [
    "# Trader Joe's"
   ]
  },
  {
   "cell_type": "code",
   "execution_count": null,
   "metadata": {
    "hidden": true
   },
   "outputs": [],
   "source": [
    "trader_url = 'https://www.traderjoes.com/recipes'\n",
    "trader_joes_outfile = 'tjs_recipes.csv'\n",
    "\n",
    "options = Options()\n",
    "options.headless = True\n",
    "driver = webdriver.Firefox(options=options)\n",
    "\n",
    "driver.get(trader_url)\n",
    "\n",
    "categories_ele = driver.find_elements_by_xpath(\"//div[@class='row text-center']//descendant::div/descendant::a\")\n",
    "categories = {category.text : category.get_attribute('href') for category in categories_ele}\n",
    "\n",
    "category_name = list(categories.keys())\n",
    "category_link = list(categories.values())\n",
    "\n",
    "for category_counter in range(0, len(categories)):\n",
    "    all_recipes = {}\n",
    "    driver.get(category_link[category_counter])\n",
    "    total_recipes = driver.find_element_by_xpath(\"//div[@class='article pagination-container']//descendant::span\").text\n",
    "\n",
    "    recipe_num_regex = re.compile(r'\\: (\\d*)')\n",
    "    num_of_recipes = int(recipe_num_regex.search(total_recipes).group(1))\n",
    "    num_of_pages = math.ceil(num_of_recipes/6)\n",
    "\n",
    "    what_page = 1\n",
    "    while what_page <= num_of_pages:\n",
    "        recipes_ele = driver.find_elements_by_xpath(\"//div[@class='row text-center']//descendant::div/descendant::a\")\n",
    "        recipes = {recipe.text:recipe.get_attribute('href') for recipe in recipes_ele}\n",
    "        all_recipes.update(recipes)\n",
    "\n",
    "        try:\n",
    "            next_page = driver.find_element_by_xpath(\"//a[@rel='next']\").get_attribute('href')\n",
    "        except NoSuchElementException:\n",
    "            next_page = None\n",
    "\n",
    "        what_page +=1\n",
    "\n",
    "        if next_page:\n",
    "            driver.get(next_page)\n",
    "        else:\n",
    "            pass\n",
    "        \n",
    "    recipe_names = list(all_recipes.keys())\n",
    "    recipe_links = list(all_recipes.values())\n",
    "    \n",
    "        \n",
    "    for recipe_counter in range(0, len(all_recipes)):\n",
    "        driver.get(recipe_links[recipe_counter])\n",
    "        try:\n",
    "            recipe_image = driver.find_element_by_xpath(\"//div[@class='image-holder border-image image-border-detected']//descendant::img\").get_attribute('src')\n",
    "        except NoSuchElementException:\n",
    "            recipe_image = None\n",
    "        try:\n",
    "            recipe_description = driver.find_element_by_xpath(\"//p[@class='space-top-thin']//following-sibling::p/descendant::em\").text\n",
    "        except NoSuchElementException:\n",
    "            recipe_description = None\n",
    "\n",
    "        try:\n",
    "            recipe_overview = driver.find_element_by_xpath(\"//*[contains(text(), 'Serves: ')]//parent::p\").text.splitlines()[0]\n",
    "        except NoSuchElementException:\n",
    "            recipe_overview = None\n",
    "        try:\n",
    "            recipe_ingredients = driver.find_element_by_xpath(\"//ul[@class='bullet-list']\").text.splitlines()\n",
    "        except NoSuchElementException:\n",
    "            recipe_ingredients = None\n",
    "        try:\n",
    "            recipe_directions = driver.find_element_by_xpath(\"//div[@class='article ']\").text.splitlines()\n",
    "        except NoSuchElementException:\n",
    "            recipe_directions = None\n",
    "        try:\n",
    "            recipe_tags = driver.find_elements_by_xpath(\"//a[@class='reltag']\")\n",
    "            recipe_tags = [recipe_tag.text for recipe_tag in recipe_tags]\n",
    "        except NoSuchElementException:\n",
    "            recipe_tags = None\n",
    "\n",
    "        var = [index, recipe_category[category_counter], recipe_names[recipe_counter], recipe_links[recipe_counter], recipe_image, recipe_description, recipe_overview, recipe_ingredients, recipe_directions, recipe_tags]\n",
    "        header = ['tjs_id', 'recipe_category', 'recipe_name', 'recipe_link', 'recipe_image', 'recipe_description', 'recipe_overview', 'recipe_ingredients', 'recipe_directions', 'recipe_tags']\n",
    "\n",
    "        write_to_file(trader_joes_outfile, var, header)\n",
    "        index += 1"
   ]
  },
  {
   "cell_type": "markdown",
   "metadata": {
    "heading_collapsed": true
   },
   "source": [
    "# PCC Community Markets"
   ]
  },
  {
   "cell_type": "code",
   "execution_count": null,
   "metadata": {
    "hidden": true
   },
   "outputs": [],
   "source": [
    "pcc_outfile = 'pcc_recipes.csv'\n",
    "\n",
    "pcc_url = 'https://www.pccmarkets.com/?s&search_type=recipe&filter_dish_type=377'\n",
    "main_page = 'https://www.pccmarkets.com'\n",
    "\n",
    "options = Options()\n",
    "options.headless = True\n",
    "driver = webdriver.Firefox(options=options)\n",
    "print('Browser opened...')\n",
    "driver.get(pcc_url)\n",
    "\n",
    "current_page = 1\n",
    "last_page = int(driver.find_element_by_xpath(\"//li[@class='page-item disabled']//following-sibling::li\").text)\n",
    "\n",
    "all_recipes = {}\n",
    "while current_page <= last_page:\n",
    "    recipe_ele = driver.find_elements_by_xpath(\"//div[@class='card-block pcc-card-block']//descendant::h2/descendant::a\")\n",
    "    recipe_name_n_link = {recipe.text:recipe.get_attribute('href') for recipe in recipe_ele}\n",
    "    all_recipes.update(recipe_name_n_link)\n",
    "    current_page += 1\n",
    "    \n",
    "    try:\n",
    "        next_page = driver.find_element_by_xpath(\"//a[@class='next page-link']\").get_attribute('href')\n",
    "    except NoSuchElementException:\n",
    "        next_page = None\n",
    "        \n",
    "    if next_page:\n",
    "        driver.get(next_page)\n",
    "\n",
    "print('Retrieved all recipes...')\n",
    "        \n",
    "recipe_names = list(all_recipes.keys())\n",
    "recipe_links = list(all_recipes.values())\n",
    "\n",
    "index = 100000\n",
    "for counter in range(0, len(all_recipes)):\n",
    "\n",
    "    driver.get(recipe_links[counter])\n",
    "\n",
    "    try:\n",
    "        author = driver.find_element_by_xpath(\"//header[@class='mb-md hidden-sm-down']//descendant::p\").text\n",
    "    except NoSuchElementException:\n",
    "        author = None\n",
    "    try:\n",
    "        recipe_image = driver.find_element_by_xpath(\"//div[@class='pcc-content-bleed embed-responsive embed-responsive-3by2']//descendant::picture/descendant::img\").get_attribute('src')\n",
    "    except NoSuchElementException:\n",
    "        recipe_image = None\n",
    "\n",
    "    try:\n",
    "        recipe_overview = driver.find_element_by_xpath(\"//ul[@class='pcc-list-md mb-md list-unstyled']\").text\n",
    "    except NoSuchElementException:\n",
    "        recipe_overview = None\n",
    "\n",
    "    try:\n",
    "        recipe_description = driver.find_element_by_xpath(\"//p[@itemprop='description']\").text\n",
    "    except NoSuchElementException:\n",
    "        recipe_description = None\n",
    "    try:\n",
    "        recipe_tags = driver.find_element_by_xpath(\"//ul[@class='list-unstyled pcc-recipe-tags']\").text\n",
    "    except NoSuchElementException:\n",
    "        recipe_tags = None\n",
    "\n",
    "    try:\n",
    "        recipe_ingredients = driver.find_elements_by_xpath(\"//li[@itemprop='recipeIngredient']\")\n",
    "        recipe_ingredients = [recipe_ingredient.text for recipe_ingredient in recipe_ingredients]\n",
    "    except NoSuchElementException:\n",
    "        recipe_ingredients = None\n",
    "    try:\n",
    "        recipe_directions = driver.find_elements_by_xpath(\"//p[@itemprop='recipeInstructions']\")\n",
    "        recipe_directions = [recipe_direction.text for recipe_direction in recipe_directions]\n",
    "    except:\n",
    "        recipe_directions = None\n",
    "        \n",
    "    var = [index, recipe_names[counter].title(), recipe_links[counter], author, recipe_image, recipe_overview, recipe_description, recipe_tags, recipe_ingredients, recipe_directions, main_page]\n",
    "    header = ['pcc_id', 'recipe_name', 'recipe_links', 'author', 'recipe_image', 'recipe_overview', 'recipe_description', 'recipe_tags', 'recipe_ingredients', 'recipe_directions', 'external_url']\n",
    "    \n",
    "    write_to_file(pcc_outfile, var, header)\n",
    "    \n",
    "    index += 1\n",
    "    \n",
    "print('Process Completed.')"
   ]
  },
  {
   "cell_type": "markdown",
   "metadata": {
    "heading_collapsed": true
   },
   "source": [
    "# Natural Grocers"
   ]
  },
  {
   "cell_type": "code",
   "execution_count": null,
   "metadata": {
    "hidden": true
   },
   "outputs": [],
   "source": [
    "url = 'https://www.naturalgrocers.com/recipe-finder?sort_by=nid&sort_order=DESC&search_api_fulltext=&page=0x'"
   ]
  },
  {
   "cell_type": "markdown",
   "metadata": {},
   "source": [
    "# Binging With Babish\n",
    "https://www.bingingwithbabish.com/recipes"
   ]
  },
  {
   "cell_type": "code",
   "execution_count": 26,
   "metadata": {},
   "outputs": [
    {
     "name": "stdout",
     "output_type": "stream",
     "text": [
      "Browser opened...\n",
      "Retrieved all recipes...\n",
      "Process Completed.\n"
     ]
    }
   ],
   "source": [
    "b_with_b_main_page = 'https://www.bingingwithbabish.com/'\n",
    "b_with_b_url = 'https://www.bingingwithbabish.com/recipes'\n",
    "\n",
    "b_with_b_outfile = 'b_with_b_recipes.csv'\n",
    "\n",
    "options = Options()\n",
    "options.headless = True\n",
    "driver = webdriver.Firefox(options=options)\n",
    "\n",
    "driver.get(b_with_b_url)\n",
    "print('Browser opened...')\n",
    "\n",
    "recipe_thumbnails = driver.find_elements_by_xpath(\"//div[@class='main-image-wrapper']//descendant::a/descendant::div/descendant::img\")\n",
    "recipe_thumbnails = [recipe_thumbnail.get_attribute('src') for recipe_thumbnail in recipe_thumbnails]\n",
    "\n",
    "date_published = driver.find_elements_by_xpath(\"//time[@class='published']\")\n",
    "date_published = [date.get_attribute('datetime') for date in date_published]\n",
    "\n",
    "recipe_eles = driver.find_elements_by_xpath(\"//div[@class='recipe-title-wrapper']//descendant::div/descendant::a\")\n",
    "recipe_name_n_link = {recipe.text:recipe.get_attribute('href') for recipe in recipe_eles}\n",
    "print('Retrieved all recipes...')\n",
    "\n",
    "recipe_names = list(recipe_name_n_link.keys())\n",
    "recipe_links = list(recipe_name_n_link.values())\n",
    "\n",
    "index = 100000\n",
    "for counter in range(0, len(recipe_name_n_link)):\n",
    "    driver.get(recipe_links[counter])\n",
    "    recipe_parts = driver.find_elements_by_xpath(\"//div[@class='sqs-block html-block sqs-block-html']\")[:3]\n",
    "    parts = ['overview', 'ingredients', 'directions']\n",
    "    recipe_dict = {parts[counter]:recipe_parts[counter].text for counter in range(0, len(recipe_parts))}\n",
    "    sections = [section.splitlines() for section in list(recipe_dict.values())]\n",
    "\n",
    "    var = [index, recipe_names[counter], recipe_links[counter], recipe_thumbnails[counter], date_published[counter], sections[0], sections[1], sections[2], b_with_b_main_page]\n",
    "    header = ['b_with_b_id', 'recipe_name', 'recipe_link', 'recipe_thumbnail', 'date_published', 'recipe_description', 'recipe_ingredients', 'recipe_directions', 'external_url']\n",
    "\n",
    "    write_to_file(b_with_b_outfile, var, header)\n",
    "    \n",
    "    index += 1\n",
    "\n",
    "driver.close()\n",
    "\n",
    "print('Process Completed.')"
   ]
  },
  {
   "cell_type": "markdown",
   "metadata": {},
   "source": [
    "# Once Upon a Chef by Jenn Segal\n",
    "https://www.onceuponachef.com/recipes"
   ]
  },
  {
   "cell_type": "markdown",
   "metadata": {
    "heading_collapsed": true
   },
   "source": [
    "# Five Heart Home\n",
    "https://www.fivehearthome.com/recipes/"
   ]
  },
  {
   "cell_type": "markdown",
   "metadata": {},
   "source": [
    "# Striped Spatula\n",
    "https://stripedspatula.com/category/appetizers"
   ]
  },
  {
   "cell_type": "markdown",
   "metadata": {},
   "source": [
    "# Dinner at the Zoo\n",
    "https://www.dinneratthezoo.com/all-recipes/"
   ]
  },
  {
   "cell_type": "markdown",
   "metadata": {},
   "source": [
    "# Kitchn (6216)\n",
    "https://www.thekitchn.com/search?q=&filter=recipes"
   ]
  },
  {
   "cell_type": "markdown",
   "metadata": {},
   "source": [
    "# Central Market\n",
    "https://centralmarket.com/recipes/browse/"
   ]
  },
  {
   "cell_type": "markdown",
   "metadata": {},
   "source": [
    "# Kevin is Cooking\n",
    "https://keviniscooking.com/category/collections/"
   ]
  },
  {
   "cell_type": "markdown",
   "metadata": {},
   "source": [
    "# The Cozy Apron\n",
    "https://thecozyapron.com/recipes/"
   ]
  },
  {
   "cell_type": "markdown",
   "metadata": {},
   "source": [
    "# Garlic and Zest\n",
    "https://www.garlicandzest.com/recipes/"
   ]
  },
  {
   "cell_type": "markdown",
   "metadata": {},
   "source": [
    "# How Sweet Eats\n",
    "https://www.howsweeteats.com/2019/12/roasted-kabocha-squash-pomegranate-pepita-relish/"
   ]
  },
  {
   "cell_type": "markdown",
   "metadata": {},
   "source": [
    "# Domestic Superhero\n",
    "https://domesticsuperhero.com/recipe-index/"
   ]
  },
  {
   "cell_type": "markdown",
   "metadata": {},
   "source": [
    "# The Candid Appetite\n",
    "https://www.thecandidappetite.com/recipe-index/"
   ]
  },
  {
   "cell_type": "markdown",
   "metadata": {},
   "source": [
    "# Love & Olive Oil\n",
    "https://www.loveandoliveoil.com/recipe-index"
   ]
  },
  {
   "cell_type": "markdown",
   "metadata": {},
   "source": [
    "# Lively Table\n",
    "https://livelytable.com/recipes-3/"
   ]
  },
  {
   "cell_type": "markdown",
   "metadata": {},
   "source": [
    "# Drizzle and Dip\n",
    "https://drizzleanddip.com/category/recipes/"
   ]
  },
  {
   "cell_type": "markdown",
   "metadata": {},
   "source": [
    "# Love and Lemons\n",
    "https://www.loveandlemons.com/recipes/"
   ]
  }
 ],
 "metadata": {
  "kernelspec": {
   "display_name": "Python 3",
   "language": "python",
   "name": "python3"
  },
  "language_info": {
   "codemirror_mode": {
    "name": "ipython",
    "version": 3
   },
   "file_extension": ".py",
   "mimetype": "text/x-python",
   "name": "python",
   "nbconvert_exporter": "python",
   "pygments_lexer": "ipython3",
   "version": "3.8.1"
  },
  "toc": {
   "base_numbering": 1,
   "nav_menu": {},
   "number_sections": true,
   "sideBar": true,
   "skip_h1_title": false,
   "title_cell": "Table of Contents",
   "title_sidebar": "Contents",
   "toc_cell": false,
   "toc_position": {},
   "toc_section_display": true,
   "toc_window_display": false
  }
 },
 "nbformat": 4,
 "nbformat_minor": 4
}
